{
 "cells": [
  {
   "cell_type": "markdown",
   "id": "d99cd55e",
   "metadata": {},
   "source": [
    "## Simple Chatbot"
   ]
  },
  {
   "cell_type": "code",
   "execution_count": 1,
   "id": "84b554a9",
   "metadata": {},
   "outputs": [
    {
     "data": {
      "text/plain": [
       "{'i am': 'you are',\n",
       " 'i was': 'you were',\n",
       " 'i': 'you',\n",
       " \"i'm\": 'you are',\n",
       " \"i'd\": 'you would',\n",
       " \"i've\": 'you have',\n",
       " \"i'll\": 'you will',\n",
       " 'my': 'your',\n",
       " 'you are': 'I am',\n",
       " 'you were': 'I was',\n",
       " \"you've\": 'I have',\n",
       " \"you'll\": 'I will',\n",
       " 'your': 'my',\n",
       " 'yours': 'mine',\n",
       " 'you': 'me',\n",
       " 'me': 'you'}"
      ]
     },
     "execution_count": 1,
     "metadata": {},
     "output_type": "execute_result"
    }
   ],
   "source": [
    "#import reflections\n",
    "\n",
    "from nltk.chat.util import Chat,reflections\n",
    "reflections"
   ]
  },
  {
   "cell_type": "code",
   "execution_count": null,
   "id": "820316e8",
   "metadata": {},
   "outputs": [
    {
     "name": "stdout",
     "output_type": "stream",
     "text": [
      ">Hello\n",
      "Hi!, How can I help you?\n",
      ">Need help\n",
      "How can I help you?\n",
      ">What is Chatbot?\n",
      "Chatbot is python program to help you\n",
      ">I am Fatima\n",
      "Nice to hear that\n",
      ">What is your name\n",
      "I am Chatbot and here to help you\n"
     ]
    }
   ],
   "source": [
    "pairs=[\n",
    "    ['Hello',['Hi!, How can I help you?']],\n",
    "    ['Need help',['How can I help you?']],\n",
    "    ['I am Fatima',['Nice to hear that']],\n",
    "    ['What is your name?',['I am Chatbot and here to help you']],\n",
    "    ['What is Chatbot?',['Chatbot is python program to help you']]\n",
    "]\n",
    "\n",
    "chat=Chat(pairs,reflections)\n",
    "chat.converse()"
   ]
  },
  {
   "cell_type": "code",
   "execution_count": null,
   "id": "5533fb46",
   "metadata": {},
   "outputs": [],
   "source": []
  }
 ],
 "metadata": {
  "kernelspec": {
   "display_name": "Python 3 (ipykernel)",
   "language": "python",
   "name": "python3"
  },
  "language_info": {
   "codemirror_mode": {
    "name": "ipython",
    "version": 3
   },
   "file_extension": ".py",
   "mimetype": "text/x-python",
   "name": "python",
   "nbconvert_exporter": "python",
   "pygments_lexer": "ipython3",
   "version": "3.9.12"
  }
 },
 "nbformat": 4,
 "nbformat_minor": 5
}
